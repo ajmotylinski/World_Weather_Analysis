{
 "cells": [
  {
   "cell_type": "code",
   "execution_count": 1,
   "id": "f8fabadd",
   "metadata": {},
   "outputs": [],
   "source": [
    "# Import the dependencies.\n",
    "import pandas as pd\n",
    "import numpy as np\n",
    "import requests\n",
    "# Use the citipy module to determine city based on latitude and longitude.\n",
    "from citipy import citipy\n",
    "\n",
    "# Import the API key.\n",
    "from config import weather_api_key\n",
    "\n",
    "# Import the time library and the datetime module from the datetime library \n",
    "import time\n",
    "from datetime import datetime\n",
    "\n",
    "# Import the datetime module from the datetime library.\n",
    "from datetime import datetime\n",
    "\n",
    "# Import the API key.\n",
    "from config import weather_api_key\n",
    "\n"
   ]
  },
  {
   "cell_type": "code",
   "execution_count": 2,
   "id": "01ecf6b2",
   "metadata": {},
   "outputs": [
    {
     "data": {
      "text/plain": [
       "<zip at 0x27a039a8dc8>"
      ]
     },
     "execution_count": 2,
     "metadata": {},
     "output_type": "execute_result"
    }
   ],
   "source": [
    "# Create a set of random latitude and longitude combinations.\n",
    "lats = np.random.uniform(low=-90.000, high=90.000, size=2000)\n",
    "lngs = np.random.uniform(low=-180.000, high=180.000, size=2000)\n",
    "lat_lngs = zip(lats, lngs)\n",
    "lat_lngs"
   ]
  },
  {
   "cell_type": "code",
   "execution_count": 3,
   "id": "41b30372",
   "metadata": {},
   "outputs": [],
   "source": [
    "# Add the latitudes and longitudes to a list.\n",
    "coordinates = list(lat_lngs)"
   ]
  },
  {
   "cell_type": "code",
   "execution_count": 4,
   "id": "8bf30c3f",
   "metadata": {},
   "outputs": [
    {
     "data": {
      "text/plain": [
       "754"
      ]
     },
     "execution_count": 4,
     "metadata": {},
     "output_type": "execute_result"
    }
   ],
   "source": [
    "# Create a list for holding the cities.\n",
    "cities = []\n",
    "# Identify the nearest city for each latitude and longitude combination.\n",
    "for coordinate in coordinates:\n",
    "    city = citipy.nearest_city(coordinate[0], coordinate[1]).city_name\n",
    "\n",
    "    # If the city is unique, then we will add it to the cities list.\n",
    "    if city not in cities:\n",
    "        cities.append(city)\n",
    "# Print the city count to confirm sufficient count.\n",
    "len(cities)"
   ]
  },
  {
   "cell_type": "code",
   "execution_count": 5,
   "id": "08725a71",
   "metadata": {},
   "outputs": [],
   "source": [
    "url = \"http://api.openweathermap.org/data/2.5/weather?units=Imperial&APPID=\" + weather_api_key\n"
   ]
  },
  {
   "cell_type": "code",
   "execution_count": null,
   "id": "0e198bd7",
   "metadata": {
    "scrolled": true
   },
   "outputs": [
    {
     "name": "stdout",
     "output_type": "stream",
     "text": [
      "Beginning Data Retrieval     \n",
      "-----------------------------\n",
      "Processing Record 1 of Set 1 | boras\n",
      "Processing Record 2 of Set 1 | barentsburg\n",
      "City not found. Skipping...\n",
      "Processing Record 3 of Set 1 | castro\n",
      "Processing Record 4 of Set 1 | bredasdorp\n",
      "Processing Record 5 of Set 1 | sorland\n",
      "Processing Record 6 of Set 1 | cabo san lucas\n",
      "Processing Record 7 of Set 1 | viligili\n",
      "City not found. Skipping...\n",
      "Processing Record 8 of Set 1 | rikitea\n",
      "Processing Record 9 of Set 1 | bilibino\n",
      "Processing Record 10 of Set 1 | dingle\n",
      "Processing Record 11 of Set 1 | cherskiy\n",
      "Processing Record 12 of Set 1 | nivala\n",
      "Processing Record 13 of Set 1 | kalmunai\n",
      "Processing Record 14 of Set 1 | luza\n",
      "Processing Record 15 of Set 1 | belushya guba\n",
      "City not found. Skipping...\n",
      "Processing Record 16 of Set 1 | punta arenas\n",
      "Processing Record 17 of Set 1 | inhambane\n",
      "Processing Record 18 of Set 1 | clyde river\n",
      "Processing Record 19 of Set 1 | prince rupert\n",
      "Processing Record 20 of Set 1 | strezhevoy\n",
      "Processing Record 21 of Set 1 | victoria\n",
      "Processing Record 22 of Set 1 | cape town\n",
      "Processing Record 23 of Set 1 | talcahuano\n",
      "Processing Record 24 of Set 1 | cidreira\n",
      "Processing Record 25 of Set 1 | albany\n",
      "Processing Record 26 of Set 1 | east london\n",
      "Processing Record 27 of Set 1 | ilulissat\n",
      "Processing Record 28 of Set 1 | vardo\n",
      "Processing Record 29 of Set 1 | nioro\n",
      "Processing Record 30 of Set 1 | samusu\n",
      "City not found. Skipping...\n",
      "Processing Record 31 of Set 1 | ushuaia\n",
      "Processing Record 32 of Set 1 | vung tau\n",
      "Processing Record 33 of Set 1 | tabuk\n",
      "Processing Record 34 of Set 1 | husavik\n",
      "Processing Record 35 of Set 1 | hofn\n",
      "Processing Record 36 of Set 1 | manzil salim\n",
      "Processing Record 37 of Set 1 | lorengau\n",
      "Processing Record 38 of Set 1 | batemans bay\n",
      "Processing Record 39 of Set 1 | saint-philippe\n",
      "Processing Record 40 of Set 1 | cabugao\n",
      "Processing Record 41 of Set 1 | nemuro\n",
      "Processing Record 42 of Set 1 | hilo\n",
      "Processing Record 43 of Set 1 | nuevo progreso\n",
      "Processing Record 44 of Set 1 | constitucion\n",
      "Processing Record 45 of Set 1 | mitsamiouli\n",
      "Processing Record 46 of Set 1 | clarence town\n",
      "Processing Record 47 of Set 1 | taolanaro\n",
      "City not found. Skipping...\n",
      "Processing Record 48 of Set 1 | hobart\n",
      "Processing Record 49 of Set 1 | saleaula\n",
      "City not found. Skipping...\n",
      "Processing Record 50 of Set 1 | martinsburg\n"
     ]
    }
   ],
   "source": [
    "# Create an empty list to hold the weather data.\n",
    "city_data = []\n",
    "# Print the beginning of the logging.\n",
    "print(\"Beginning Data Retrieval     \")\n",
    "print(\"-----------------------------\")\n",
    "\n",
    "# Create counters.\n",
    "record_count = 1\n",
    "set_count = 1\n",
    "\n",
    "# Loop through all the cities in the list.\n",
    "for i, city in enumerate(cities):\n",
    "\n",
    "    # Group cities in sets of 50 for logging purposes.\n",
    "    if (i % 50 == 0 and i >= 50):\n",
    "        set_count += 1\n",
    "        record_count = 1\n",
    "        time.sleep(60)\n",
    "\n",
    "    # Create endpoint URL with each city.\n",
    "    city_url = url + \"&q=\" + city.replace(\" \",\"+\")\n",
    "\n",
    "    # Log the URL, record, and set numbers and the city.\n",
    "    print(f\"Processing Record {record_count} of Set {set_count} | {city}\")\n",
    "    # Add 1 to the record count.\n",
    "    record_count += 1\n",
    "    \n",
    "    # Run an API request for each of the cities.\n",
    "    try:\n",
    "        # Parse the JSON and retrieve data.\n",
    "        city_weather = requests.get(city_url).json()\n",
    "        # Parse out the needed data.\n",
    "        city_lat = city_weather[\"coord\"][\"lat\"]\n",
    "        city_lng = city_weather[\"coord\"][\"lon\"]\n",
    "        city_max_temp = city_weather[\"main\"][\"temp_max\"]\n",
    "        city_humidity = city_weather[\"main\"][\"humidity\"]\n",
    "        city_clouds = city_weather[\"clouds\"][\"all\"]\n",
    "        city_wind = city_weather[\"wind\"][\"speed\"]\n",
    "        city_country = city_weather[\"sys\"][\"country\"]\n",
    "        city_description = city_weather[\"weather\"][0][\"description\"]\n",
    "        # Convert the date to ISO standard.\n",
    "        city_date = datetime.utcfromtimestamp(city_weather[\"dt\"]).strftime('%Y-%m-%d %H:%M:%S')\n",
    "        # Append the city information into city_data list.\n",
    "        city_data.append({\"City\": city.title(),\n",
    "                          \"Country\": city_country,\n",
    "                          \"Date\": city_date,\n",
    "                          \"Lat\": city_lat,\n",
    "                          \"Lng\": city_lng,\n",
    "                          \"Max Temp\": city_max_temp,\n",
    "                          \"Humidity\": city_humidity,\n",
    "                          \"Cloudiness\": city_clouds,\n",
    "                          \"Wind Speed\": city_wind,\n",
    "                          \"City Description\": city_description})\n",
    "\n",
    "# If an error is experienced, skip the city.\n",
    "    except:\n",
    "        print(\"City not found. Skipping...\" )\n",
    "        pass\n",
    "\n",
    "# Indicate that Data Loading is complete.\n",
    "print(\"-----------------------------\")\n",
    "print(\"Data Retrieval Complete      \")\n",
    "print(\"-----------------------------\")"
   ]
  },
  {
   "cell_type": "code",
   "execution_count": null,
   "id": "e550169e",
   "metadata": {},
   "outputs": [],
   "source": [
    "# Convert the array of dictionaries to a Pandas DataFrame.\n",
    "city_data_df = pd.DataFrame(city_data)\n",
    "city_data_df.head(10)"
   ]
  },
  {
   "cell_type": "code",
   "execution_count": null,
   "id": "4e7a0375",
   "metadata": {},
   "outputs": [],
   "source": [
    "# Create the output file (CSV).\n",
    "output_data_file = \"Weather_Database/WeatherPy_Database.csv\"\n",
    "# Export the City_Data into a CSV.\n",
    "city_data_df.to_csv(output_data_file, index_label=\"City_ID\")"
   ]
  },
  {
   "cell_type": "code",
   "execution_count": null,
   "id": "b8da587b",
   "metadata": {},
   "outputs": [],
   "source": []
  }
 ],
 "metadata": {
  "kernelspec": {
   "display_name": "PythonData",
   "language": "python",
   "name": "pythondata"
  },
  "language_info": {
   "codemirror_mode": {
    "name": "ipython",
    "version": 3
   },
   "file_extension": ".py",
   "mimetype": "text/x-python",
   "name": "python",
   "nbconvert_exporter": "python",
   "pygments_lexer": "ipython3",
   "version": "3.7.11"
  }
 },
 "nbformat": 4,
 "nbformat_minor": 5
}
